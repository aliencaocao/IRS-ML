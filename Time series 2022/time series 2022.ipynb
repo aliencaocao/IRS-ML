{
 "cells": [
  {
   "cell_type": "code",
   "execution_count": 1,
   "metadata": {
    "collapsed": true,
    "pycharm": {
     "name": "#%%\n"
    }
   },
   "outputs": [
    {
     "name": "stdout",
     "output_type": "stream",
     "text": [
      "2.8.0\n"
     ]
    }
   ],
   "source": [
    "import tensorflow as tf\n",
    "import numpy as np\n",
    "import pandas as pd\n",
    "import matplotlib.pyplot as plt\n",
    "from tensorflow.keras.models import Model\n",
    "from tensorflow.keras.layers import *\n",
    "print(tf.__version__)"
   ]
  },
  {
   "cell_type": "code",
   "execution_count": 27,
   "outputs": [
    {
     "data": {
      "text/plain": "         Date  Price\n0  1994-03-21  1.106\n1  1994-03-28  1.107\n2  1994-04-04  1.109\n3  1994-04-11  1.108\n4  1994-04-18  1.105",
      "text/html": "<div>\n<style scoped>\n    .dataframe tbody tr th:only-of-type {\n        vertical-align: middle;\n    }\n\n    .dataframe tbody tr th {\n        vertical-align: top;\n    }\n\n    .dataframe thead th {\n        text-align: right;\n    }\n</style>\n<table border=\"1\" class=\"dataframe\">\n  <thead>\n    <tr style=\"text-align: right;\">\n      <th></th>\n      <th>Date</th>\n      <th>Price</th>\n    </tr>\n  </thead>\n  <tbody>\n    <tr>\n      <th>0</th>\n      <td>1994-03-21</td>\n      <td>1.106</td>\n    </tr>\n    <tr>\n      <th>1</th>\n      <td>1994-03-28</td>\n      <td>1.107</td>\n    </tr>\n    <tr>\n      <th>2</th>\n      <td>1994-04-04</td>\n      <td>1.109</td>\n    </tr>\n    <tr>\n      <th>3</th>\n      <td>1994-04-11</td>\n      <td>1.108</td>\n    </tr>\n    <tr>\n      <th>4</th>\n      <td>1994-04-18</td>\n      <td>1.105</td>\n    </tr>\n  </tbody>\n</table>\n</div>"
     },
     "execution_count": 27,
     "metadata": {},
     "output_type": "execute_result"
    }
   ],
   "source": [
    "# Load the data\n",
    "df = pd.read_csv('Weekly_U.S.Diesel_Retail_Prices.csv', names=['Date', 'Price'], skiprows=1)  # skip the header row since we define our own headers\n",
    "df.head()"
   ],
   "metadata": {
    "collapsed": false,
    "pycharm": {
     "name": "#%%\n"
    }
   }
  },
  {
   "cell_type": "code",
   "execution_count": 28,
   "outputs": [
    {
     "data": {
      "text/plain": "<Figure size 432x288 with 1 Axes>",
      "image/png": "[encoded data removed]"
     },
     "metadata": {
      "needs_background": "light"
     },
     "output_type": "display_data"
    }
   ],
   "source": [
    "# Plot the data\n",
    "plt.plot(df['Date'], df['Price'])\n",
    "plt.xlabel('Date')\n",
    "plt.ylabel('Price')\n",
    "plt.title('Weekly U.S. Diesel Retail Prices')\n",
    "plt.show()"
   ],
   "metadata": {
    "collapsed": false,
    "pycharm": {
     "name": "#%%\n"
    }
   }
  },
  {
   "cell_type": "code",
   "execution_count": 29,
   "outputs": [
    {
     "data": {
      "text/plain": "array([[0.03211587],\n       [0.03232578],\n       [0.03274559],\n       [0.03253568],\n       [0.03190596],\n       [0.03211587],\n       [0.03169605],\n       [0.03106633],\n       [0.03064652],\n       [0.03064652]])"
     },
     "execution_count": 29,
     "metadata": {},
     "output_type": "execute_result"
    }
   ],
   "source": [
    "df.drop('Date', axis=1, inplace=True)  # not needed anymore\n",
    "data = df.values  # get the values as numpy array\n",
    "\n",
    "def normalize(data, min, max):  # https://en.wikipedia.org/wiki/Feature_scaling\n",
    "    data = data - min  # Take note that operations like - and / here are all element-wise across 2 lists. This is a Numpy array feature, NOT a python list feature. If you pass in data as a python list, it will give error!\n",
    "    data = data / max\n",
    "    return data\n",
    "\n",
    "data_normed = normalize(data, data.min(axis=0), data.max(axis=0))\n",
    "data_normed[:10]"
   ],
   "metadata": {
    "collapsed": false,
    "pycharm": {
     "name": "#%%\n"
    }
   }
  },
  {
   "cell_type": "code",
   "execution_count": 19,
   "outputs": [],
   "source": [
    "split = int(0.8 * len(data_normed))\n",
    "train, val = data_normed[:split], data_normed[split:]\n",
    "\n",
    "def windowed_dataset(series, batch_size, n_past=10, n_future=10, shift=1):\n",
    "    \"\"\"\n",
    "    Series: an iterable\n",
    "    batch_size: number of samples per batch\n",
    "    n_past: number of timesteps to look back (x or input to the model)\n",
    "    n_future: number of timesteps to predict (y or output of the model)\n",
    "    shift: number of timesteps to shift the window by, usually 1 if we want to maximize the use of data\n",
    "    \"\"\"\n",
    "    ds = tf.data.Dataset.from_tensor_slices(series)\n",
    "    ds = ds.window(size=n_past + n_future, shift=shift, drop_remainder=True)\n",
    "    ds = ds.flat_map(lambda w: w.batch(n_past + n_future))\n",
    "    ds = ds.map(lambda w: (w[:n_past], w[n_past:]))  # taking the past as x, future as y, split by n_past\n",
    "    return ds.batch(batch_size).prefetch(1)\n",
    "\n",
    "\n",
    "batch_size = 32  # explore how changing this affects the model (hint: it is not as simple as larger batch size = better performance, like in image tasks!)\n",
    "n_past = 10\n",
    "n_future = 10\n",
    "shift = 1  # usually we keep it 1\n",
    "\n",
    "train_ds = windowed_dataset(series=train, batch_size=batch_size, n_past=n_past, n_future=n_future, shift=shift)\n",
    "valid_ds = windowed_dataset(series=val, batch_size=batch_size, n_past=n_past, n_future=n_future, shift=shift)"
   ],
   "metadata": {
    "collapsed": false,
    "pycharm": {
     "name": "#%%\n"
    }
   }
  },
  {
   "cell_type": "code",
   "execution_count": 20,
   "outputs": [
    {
     "name": "stdout",
     "output_type": "stream",
     "text": [
      "Model: \"model\"\n",
      "_________________________________________________________________\n",
      " Layer (type)                Output Shape              Param #   \n",
      "=================================================================\n",
      " input_1 (InputLayer)        [(None, 10, 1)]           0         \n",
      "                                                                 \n",
      " lstm (LSTM)                 (None, 10, 32)            4352      \n",
      "                                                                 \n",
      " lstm_1 (LSTM)               (None, 32)                8320      \n",
      "                                                                 \n",
      " dense (Dense)               (None, 10)                330       \n",
      "                                                                 \n",
      "=================================================================\n",
      "Total params: 13,002\n",
      "Trainable params: 13,002\n",
      "Non-trainable params: 0\n",
      "_________________________________________________________________\n"
     ]
    }
   ],
   "source": [
    "# Model V1\n",
    "\n",
    "xIn = Input((n_past, 1))  # 2D input, where first dimension is number of timesteps to look back, 2nd dimension is number of features or columns of data (yes you can input multiple time series at once). Remember that the batch size dimension is always omitted in Input() so don't be surprised if model.summary() tells you input is 3D.\n",
    "x = LSTM(32, return_sequences=True)(xIn)  # LSTM layer with 32 cells. Return sequences = True is needed if you are connecting another RNN after this layer, since an RNN expects sequences as input. If return sequences is False, it only return the features of the last step.\n",
    "x = LSTM(32)(x)  # return sequences is False by default so no need to specify it here\n",
    "xOut = Dense(n_future)(x)  # dense layer with the same number of neurons as the number of timesteps to predict. Each neuron output the predicted price for a timestep in future.\n",
    "\n",
    "model = Model(inputs=xIn, outputs=xOut)\n",
    "model.compile(loss='mse', optimizer='adam', metrics='mse')  # for numbers based time series tasks, it is the same as a regression problem, so we use mse or mae or any regression loss\n",
    "model.summary()"
   ],
   "metadata": {
    "collapsed": false,
    "pycharm": {
     "name": "#%%\n"
    }
   }
  },
  {
   "cell_type": "code",
   "execution_count": 71,
   "outputs": [
    {
     "name": "stdout",
     "output_type": "stream",
     "text": [
      "Model: \"model_2\"\n",
      "_________________________________________________________________\n",
      " Layer (type)                Output Shape              Param #   \n",
      "=================================================================\n",
      " input_3 (InputLayer)        [(None, 10, 1)]           0         \n",
      "                                                                 \n",
      " lstm_4 (LSTM)               (None, 10, 32)            4352      \n",
      "                                                                 \n",
      " lstm_5 (LSTM)               (None, 10, 32)            8320      \n",
      "                                                                 \n",
      " dense_3 (Dense)             (None, 10, 32)            1056      \n",
      "                                                                 \n",
      " flatten (Flatten)           (None, 320)               0         \n",
      "                                                                 \n",
      " dense_4 (Dense)             (None, 64)                20544     \n",
      "                                                                 \n",
      " dense_5 (Dense)             (None, 10)                650       \n",
      "                                                                 \n",
      "=================================================================\n",
      "Total params: 34,922\n",
      "Trainable params: 34,922\n",
      "Non-trainable params: 0\n",
      "_________________________________________________________________\n"
     ]
    }
   ],
   "source": [
    "# Model V2: LSTM that returns sequence to dense layer and dense layer gathers all the time axis features. You will realise that this actually perform a bit better than V1.\n",
    "\n",
    "xIn = Input((n_past, 1))  # 2D input, where first dimension is number of timesteps to look back, 2nd dimension is number of features or columns of data (yes you can input multiple time series at once). Remember that the batch size dimension is always omitted in Input() so don't be surprised if model.summary() tells you input is 3D.\n",
    "x = LSTM(32, return_sequences=True)(xIn)  # LSTM layer with 32 cells. Return sequences = True is needed if you are connecting another RNN after this layer, since an RNN expects sequences as input. If return sequences is False, it only return the features of the last step.\n",
    "x = LSTM(32, return_sequences=True)(x)  # return sequences is False by default so no need to specify it here\n",
    "x = Dense(32, activation='swish')(x)  # this dense layer receives a 2D input of (10, 32). We can choose to do a Flatten() or GlobalAvgPool2D() before of after this layer. Dense layers can accept 2D inputs and output as 2D but because our final output is supposed to be 1D (1 x 10), so we have to do Flatten or GlobalAvgPool2D() before that output layer.\n",
    "x = Flatten()(x)  # flatten the output of the previous layer to 1D\n",
    "x = Dense(64, activation='swish')(x)\n",
    "xOut = Dense(n_future)(x)  # dense layer with the same number of neurons as the number of timesteps to predict. Each neuron output the predicted price for a timestep in future.\n",
    "\n",
    "model = Model(inputs=xIn, outputs=xOut)\n",
    "model.compile(loss='mse', optimizer='adam', metrics='mse')  # for numbers based time series tasks, it is the same as a regression problem, so we use mse or mae or any regression loss\n",
    "model.summary()"
   ],
   "metadata": {
    "collapsed": false,
    "pycharm": {
     "name": "#%%\n"
    }
   }
  },
  {
   "cell_type": "code",
   "execution_count": 72,
   "outputs": [
    {
     "name": "stdout",
     "output_type": "stream",
     "text": [
      "Epoch 1/100\n",
      "35/35 [==============================] - 4s 26ms/step - loss: 0.0102 - mse: 0.0102 - val_loss: 0.0130 - val_mse: 0.0130\n",
      "Epoch 2/100\n",
      "35/35 [==============================] - 0s 12ms/step - loss: 0.0690 - mse: 0.0690 - val_loss: 0.0143 - val_mse: 0.0143\n",
      "Epoch 3/100\n",
      "35/35 [==============================] - 0s 5ms/step - loss: 0.0226 - mse: 0.0226 - val_loss: 0.0051 - val_mse: 0.0051\n",
      "Epoch 4/100\n",
      "35/35 [==============================] - 0s 5ms/step - loss: 0.0078 - mse: 0.0078 - val_loss: 0.0023 - val_mse: 0.0023\n",
      "Epoch 5/100\n",
      "35/35 [==============================] - 0s 5ms/step - loss: 0.0122 - mse: 0.0122 - val_loss: 0.0061 - val_mse: 0.0061\n",
      "Epoch 6/100\n",
      "35/35 [==============================] - 0s 5ms/step - loss: 0.0086 - mse: 0.0086 - val_loss: 0.0043 - val_mse: 0.0043\n",
      "Epoch 7/100\n",
      "35/35 [==============================] - 0s 5ms/step - loss: 0.0062 - mse: 0.0062 - val_loss: 0.0043 - val_mse: 0.0043\n",
      "Epoch 8/100\n",
      "35/35 [==============================] - 0s 5ms/step - loss: 0.0057 - mse: 0.0057 - val_loss: 0.0046 - val_mse: 0.0046\n",
      "Epoch 9/100\n",
      "35/35 [==============================] - 0s 5ms/step - loss: 0.0050 - mse: 0.0050 - val_loss: 0.0051 - val_mse: 0.0051\n",
      "Epoch 10/100\n",
      "35/35 [==============================] - 0s 5ms/step - loss: 0.0047 - mse: 0.0047 - val_loss: 0.0053 - val_mse: 0.0053\n",
      "Epoch 11/100\n",
      "35/35 [==============================] - 0s 5ms/step - loss: 0.0043 - mse: 0.0043 - val_loss: 0.0057 - val_mse: 0.0057\n",
      "Epoch 12/100\n",
      "35/35 [==============================] - 0s 5ms/step - loss: 0.0042 - mse: 0.0042 - val_loss: 0.0057 - val_mse: 0.0057\n",
      "Epoch 13/100\n",
      "35/35 [==============================] - 0s 5ms/step - loss: 0.0040 - mse: 0.0040 - val_loss: 0.0059 - val_mse: 0.0059\n",
      "Epoch 14/100\n",
      "35/35 [==============================] - 0s 5ms/step - loss: 0.0040 - mse: 0.0040 - val_loss: 0.0058 - val_mse: 0.0058\n",
      "Epoch 15/100\n",
      "35/35 [==============================] - 0s 5ms/step - loss: 0.0039 - mse: 0.0039 - val_loss: 0.0058 - val_mse: 0.0058\n",
      "Epoch 16/100\n",
      "35/35 [==============================] - 0s 5ms/step - loss: 0.0039 - mse: 0.0039 - val_loss: 0.0059 - val_mse: 0.0059\n",
      "Epoch 17/100\n",
      "35/35 [==============================] - 0s 5ms/step - loss: 0.0039 - mse: 0.0039 - val_loss: 0.0060 - val_mse: 0.0060\n",
      "Epoch 18/100\n",
      "35/35 [==============================] - 0s 5ms/step - loss: 0.0040 - mse: 0.0040 - val_loss: 0.0061 - val_mse: 0.0061\n",
      "Epoch 19/100\n",
      "35/35 [==============================] - 0s 5ms/step - loss: 0.0040 - mse: 0.0040 - val_loss: 0.0063 - val_mse: 0.0063\n",
      "Epoch 20/100\n",
      "35/35 [==============================] - 0s 5ms/step - loss: 0.0040 - mse: 0.0040 - val_loss: 0.0064 - val_mse: 0.0064\n",
      "Epoch 21/100\n",
      "35/35 [==============================] - 0s 5ms/step - loss: 0.0040 - mse: 0.0040 - val_loss: 0.0065 - val_mse: 0.0065\n",
      "Epoch 22/100\n",
      "35/35 [==============================] - 0s 5ms/step - loss: 0.0040 - mse: 0.0040 - val_loss: 0.0066 - val_mse: 0.0066\n",
      "Epoch 23/100\n",
      "35/35 [==============================] - 0s 5ms/step - loss: 0.0040 - mse: 0.0040 - val_loss: 0.0065 - val_mse: 0.0065\n",
      "Epoch 24/100\n",
      "35/35 [==============================] - 0s 6ms/step - loss: 0.0040 - mse: 0.0040 - val_loss: 0.0065 - val_mse: 0.0065\n",
      "Epoch 25/100\n",
      "35/35 [==============================] - 0s 5ms/step - loss: 0.0039 - mse: 0.0039 - val_loss: 0.0064 - val_mse: 0.0064\n",
      "Epoch 26/100\n",
      "35/35 [==============================] - 0s 5ms/step - loss: 0.0039 - mse: 0.0039 - val_loss: 0.0064 - val_mse: 0.0064\n",
      "Epoch 27/100\n",
      "35/35 [==============================] - 0s 5ms/step - loss: 0.0039 - mse: 0.0039 - val_loss: 0.0063 - val_mse: 0.0063\n",
      "Epoch 28/100\n",
      "35/35 [==============================] - 0s 5ms/step - loss: 0.0038 - mse: 0.0038 - val_loss: 0.0063 - val_mse: 0.0063\n",
      "Epoch 29/100\n",
      "35/35 [==============================] - 0s 5ms/step - loss: 0.0038 - mse: 0.0038 - val_loss: 0.0062 - val_mse: 0.0062\n",
      "Epoch 30/100\n",
      "35/35 [==============================] - 0s 5ms/step - loss: 0.0038 - mse: 0.0038 - val_loss: 0.0062 - val_mse: 0.0062\n",
      "Epoch 31/100\n",
      "35/35 [==============================] - 0s 5ms/step - loss: 0.0038 - mse: 0.0038 - val_loss: 0.0061 - val_mse: 0.0061\n",
      "Epoch 32/100\n",
      "35/35 [==============================] - 0s 5ms/step - loss: 0.0038 - mse: 0.0038 - val_loss: 0.0061 - val_mse: 0.0061\n",
      "Epoch 33/100\n",
      "35/35 [==============================] - 0s 5ms/step - loss: 0.0038 - mse: 0.0038 - val_loss: 0.0060 - val_mse: 0.0060\n",
      "Epoch 34/100\n",
      "35/35 [==============================] - 0s 5ms/step - loss: 0.0037 - mse: 0.0037 - val_loss: 0.0059 - val_mse: 0.0059\n",
      "Epoch 35/100\n",
      "35/35 [==============================] - 0s 5ms/step - loss: 0.0037 - mse: 0.0037 - val_loss: 0.0059 - val_mse: 0.0059\n",
      "Epoch 36/100\n",
      "35/35 [==============================] - 0s 5ms/step - loss: 0.0037 - mse: 0.0037 - val_loss: 0.0058 - val_mse: 0.0058\n",
      "Epoch 37/100\n",
      "35/35 [==============================] - 0s 5ms/step - loss: 0.0037 - mse: 0.0037 - val_loss: 0.0057 - val_mse: 0.0057\n",
      "Epoch 38/100\n",
      "35/35 [==============================] - 0s 5ms/step - loss: 0.0036 - mse: 0.0036 - val_loss: 0.0056 - val_mse: 0.0056\n",
      "Epoch 39/100\n",
      "35/35 [==============================] - 0s 5ms/step - loss: 0.0036 - mse: 0.0036 - val_loss: 0.0055 - val_mse: 0.0055\n",
      "Epoch 40/100\n",
      "35/35 [==============================] - 0s 5ms/step - loss: 0.0036 - mse: 0.0036 - val_loss: 0.0054 - val_mse: 0.0054\n",
      "Epoch 41/100\n",
      "35/35 [==============================] - 0s 5ms/step - loss: 0.0035 - mse: 0.0035 - val_loss: 0.0053 - val_mse: 0.0053\n",
      "Epoch 42/100\n",
      "35/35 [==============================] - 0s 5ms/step - loss: 0.0035 - mse: 0.0035 - val_loss: 0.0052 - val_mse: 0.0052\n",
      "Epoch 43/100\n",
      "35/35 [==============================] - 0s 5ms/step - loss: 0.0034 - mse: 0.0034 - val_loss: 0.0051 - val_mse: 0.0051\n",
      "Epoch 44/100\n",
      "35/35 [==============================] - 0s 5ms/step - loss: 0.0034 - mse: 0.0034 - val_loss: 0.0051 - val_mse: 0.0051\n",
      "Epoch 45/100\n",
      "35/35 [==============================] - 0s 5ms/step - loss: 0.0034 - mse: 0.0034 - val_loss: 0.0050 - val_mse: 0.0050\n",
      "Epoch 46/100\n",
      "35/35 [==============================] - 0s 5ms/step - loss: 0.0033 - mse: 0.0033 - val_loss: 0.0049 - val_mse: 0.0049\n",
      "Epoch 47/100\n",
      "35/35 [==============================] - 0s 5ms/step - loss: 0.0033 - mse: 0.0033 - val_loss: 0.0048 - val_mse: 0.0048\n",
      "Epoch 48/100\n",
      "35/35 [==============================] - 0s 5ms/step - loss: 0.0033 - mse: 0.0033 - val_loss: 0.0047 - val_mse: 0.0047\n",
      "Epoch 49/100\n",
      "35/35 [==============================] - 0s 5ms/step - loss: 0.0033 - mse: 0.0033 - val_loss: 0.0047 - val_mse: 0.0047\n",
      "Epoch 50/100\n",
      "35/35 [==============================] - 0s 5ms/step - loss: 0.0032 - mse: 0.0032 - val_loss: 0.0046 - val_mse: 0.0046\n",
      "Epoch 51/100\n",
      "35/35 [==============================] - 0s 5ms/step - loss: 0.0032 - mse: 0.0032 - val_loss: 0.0045 - val_mse: 0.0045\n",
      "Epoch 52/100\n",
      "35/35 [==============================] - 0s 5ms/step - loss: 0.0032 - mse: 0.0032 - val_loss: 0.0045 - val_mse: 0.0045\n",
      "Epoch 53/100\n",
      "35/35 [==============================] - 0s 5ms/step - loss: 0.0032 - mse: 0.0032 - val_loss: 0.0044 - val_mse: 0.0044\n",
      "Epoch 54/100\n",
      "35/35 [==============================] - 0s 5ms/step - loss: 0.0031 - mse: 0.0031 - val_loss: 0.0043 - val_mse: 0.0043\n",
      "Epoch 55/100\n",
      "35/35 [==============================] - 0s 5ms/step - loss: 0.0031 - mse: 0.0031 - val_loss: 0.0043 - val_mse: 0.0043\n",
      "Epoch 56/100\n",
      "35/35 [==============================] - 0s 5ms/step - loss: 0.0031 - mse: 0.0031 - val_loss: 0.0042 - val_mse: 0.0042\n",
      "Epoch 57/100\n",
      "35/35 [==============================] - 0s 6ms/step - loss: 0.0030 - mse: 0.0030 - val_loss: 0.0041 - val_mse: 0.0041\n",
      "Epoch 58/100\n",
      "35/35 [==============================] - 0s 5ms/step - loss: 0.0030 - mse: 0.0030 - val_loss: 0.0040 - val_mse: 0.0040\n",
      "Epoch 59/100\n",
      "35/35 [==============================] - 0s 5ms/step - loss: 0.0030 - mse: 0.0030 - val_loss: 0.0040 - val_mse: 0.0040\n",
      "Epoch 60/100\n",
      "35/35 [==============================] - 0s 5ms/step - loss: 0.0029 - mse: 0.0029 - val_loss: 0.0039 - val_mse: 0.0039\n",
      "Epoch 61/100\n",
      "35/35 [==============================] - 0s 5ms/step - loss: 0.0029 - mse: 0.0029 - val_loss: 0.0038 - val_mse: 0.0038\n",
      "Epoch 62/100\n",
      "35/35 [==============================] - 0s 5ms/step - loss: 0.0029 - mse: 0.0029 - val_loss: 0.0037 - val_mse: 0.0037\n",
      "Epoch 63/100\n",
      "35/35 [==============================] - 0s 5ms/step - loss: 0.0028 - mse: 0.0028 - val_loss: 0.0037 - val_mse: 0.0037\n",
      "Epoch 64/100\n",
      "35/35 [==============================] - 0s 5ms/step - loss: 0.0028 - mse: 0.0028 - val_loss: 0.0036 - val_mse: 0.0036\n",
      "Epoch 65/100\n",
      "35/35 [==============================] - 0s 5ms/step - loss: 0.0027 - mse: 0.0027 - val_loss: 0.0035 - val_mse: 0.0035\n",
      "Epoch 66/100\n",
      "35/35 [==============================] - 0s 5ms/step - loss: 0.0027 - mse: 0.0027 - val_loss: 0.0035 - val_mse: 0.0035\n",
      "Epoch 67/100\n",
      "35/35 [==============================] - 0s 5ms/step - loss: 0.0026 - mse: 0.0026 - val_loss: 0.0034 - val_mse: 0.0034\n",
      "Epoch 68/100\n",
      "35/35 [==============================] - 0s 5ms/step - loss: 0.0026 - mse: 0.0026 - val_loss: 0.0034 - val_mse: 0.0034\n",
      "Epoch 69/100\n",
      "35/35 [==============================] - 0s 6ms/step - loss: 0.0026 - mse: 0.0026 - val_loss: 0.0034 - val_mse: 0.0034\n",
      "Epoch 70/100\n",
      "35/35 [==============================] - 0s 5ms/step - loss: 0.0025 - mse: 0.0025 - val_loss: 0.0033 - val_mse: 0.0033\n",
      "Epoch 71/100\n",
      "35/35 [==============================] - 0s 5ms/step - loss: 0.0026 - mse: 0.0026 - val_loss: 0.0035 - val_mse: 0.0035\n",
      "Epoch 72/100\n",
      "35/35 [==============================] - 0s 5ms/step - loss: 0.0025 - mse: 0.0025 - val_loss: 0.0033 - val_mse: 0.0033\n",
      "Epoch 73/100\n",
      "35/35 [==============================] - 0s 5ms/step - loss: 0.0025 - mse: 0.0025 - val_loss: 0.0037 - val_mse: 0.0037\n",
      "Epoch 74/100\n",
      "35/35 [==============================] - 0s 5ms/step - loss: 0.0024 - mse: 0.0024 - val_loss: 0.0033 - val_mse: 0.0033\n",
      "Epoch 75/100\n",
      "35/35 [==============================] - 0s 5ms/step - loss: 0.0024 - mse: 0.0024 - val_loss: 0.0034 - val_mse: 0.0034\n",
      "Epoch 76/100\n",
      "35/35 [==============================] - 0s 5ms/step - loss: 0.0023 - mse: 0.0023 - val_loss: 0.0031 - val_mse: 0.0031\n",
      "Epoch 77/100\n",
      "35/35 [==============================] - 0s 5ms/step - loss: 0.0022 - mse: 0.0022 - val_loss: 0.0031 - val_mse: 0.0031\n",
      "Epoch 78/100\n",
      "35/35 [==============================] - 0s 5ms/step - loss: 0.0022 - mse: 0.0022 - val_loss: 0.0029 - val_mse: 0.0029\n",
      "Epoch 79/100\n",
      "35/35 [==============================] - 0s 5ms/step - loss: 0.0022 - mse: 0.0022 - val_loss: 0.0029 - val_mse: 0.0029\n",
      "Epoch 80/100\n",
      "35/35 [==============================] - 0s 5ms/step - loss: 0.0022 - mse: 0.0022 - val_loss: 0.0028 - val_mse: 0.0028\n",
      "Epoch 81/100\n",
      "35/35 [==============================] - 0s 5ms/step - loss: 0.0022 - mse: 0.0022 - val_loss: 0.0028 - val_mse: 0.0028\n",
      "Epoch 82/100\n",
      "35/35 [==============================] - 0s 5ms/step - loss: 0.0022 - mse: 0.0022 - val_loss: 0.0028 - val_mse: 0.0028\n",
      "Epoch 83/100\n",
      "35/35 [==============================] - 0s 5ms/step - loss: 0.0022 - mse: 0.0022 - val_loss: 0.0029 - val_mse: 0.0029\n",
      "Epoch 84/100\n",
      "35/35 [==============================] - 0s 5ms/step - loss: 0.0022 - mse: 0.0022 - val_loss: 0.0029 - val_mse: 0.0029\n",
      "Epoch 85/100\n",
      "35/35 [==============================] - 0s 5ms/step - loss: 0.0022 - mse: 0.0022 - val_loss: 0.0030 - val_mse: 0.0030\n",
      "Epoch 86/100\n",
      "35/35 [==============================] - 0s 5ms/step - loss: 0.0022 - mse: 0.0022 - val_loss: 0.0030 - val_mse: 0.0030\n",
      "Epoch 87/100\n",
      "35/35 [==============================] - 0s 5ms/step - loss: 0.0021 - mse: 0.0021 - val_loss: 0.0030 - val_mse: 0.0030\n",
      "Epoch 88/100\n",
      "35/35 [==============================] - 0s 6ms/step - loss: 0.0021 - mse: 0.0021 - val_loss: 0.0028 - val_mse: 0.0028\n",
      "Epoch 89/100\n",
      "35/35 [==============================] - 0s 5ms/step - loss: 0.0020 - mse: 0.0020 - val_loss: 0.0028 - val_mse: 0.0028\n",
      "Epoch 90/100\n",
      "35/35 [==============================] - 0s 5ms/step - loss: 0.0020 - mse: 0.0020 - val_loss: 0.0027 - val_mse: 0.0027\n",
      "Epoch 91/100\n",
      "35/35 [==============================] - 0s 5ms/step - loss: 0.0020 - mse: 0.0020 - val_loss: 0.0026 - val_mse: 0.0026\n",
      "Epoch 92/100\n",
      "35/35 [==============================] - 0s 5ms/step - loss: 0.0020 - mse: 0.0020 - val_loss: 0.0025 - val_mse: 0.0025\n",
      "Epoch 93/100\n",
      "35/35 [==============================] - 0s 5ms/step - loss: 0.0020 - mse: 0.0020 - val_loss: 0.0024 - val_mse: 0.0024\n",
      "Epoch 94/100\n",
      "35/35 [==============================] - 0s 5ms/step - loss: 0.0020 - mse: 0.0020 - val_loss: 0.0023 - val_mse: 0.0023\n",
      "Epoch 95/100\n",
      "35/35 [==============================] - 0s 5ms/step - loss: 0.0020 - mse: 0.0020 - val_loss: 0.0024 - val_mse: 0.0024\n",
      "Epoch 96/100\n",
      "35/35 [==============================] - 0s 5ms/step - loss: 0.0021 - mse: 0.0021 - val_loss: 0.0025 - val_mse: 0.0025\n",
      "Epoch 97/100\n",
      "35/35 [==============================] - 0s 5ms/step - loss: 0.0021 - mse: 0.0021 - val_loss: 0.0027 - val_mse: 0.0027\n",
      "Epoch 98/100\n",
      "35/35 [==============================] - 0s 5ms/step - loss: 0.0021 - mse: 0.0021 - val_loss: 0.0027 - val_mse: 0.0027\n",
      "Epoch 99/100\n",
      "35/35 [==============================] - 0s 5ms/step - loss: 0.0021 - mse: 0.0021 - val_loss: 0.0028 - val_mse: 0.0028\n",
      "Epoch 100/100\n",
      "35/35 [==============================] - 0s 5ms/step - loss: 0.0022 - mse: 0.0022 - val_loss: 0.0028 - val_mse: 0.0028\n"
     ]
    },
    {
     "data": {
      "text/plain": "<keras.callbacks.History at 0x1d528c292b0>"
     },
     "execution_count": 72,
     "metadata": {},
     "output_type": "execute_result"
    }
   ],
   "source": [
    "model.fit(train_ds, epochs=100, validation_data=valid_ds)"
   ],
   "metadata": {
    "collapsed": false,
    "pycharm": {
     "name": "#%%\n"
    }
   }
  },
  {
   "cell_type": "code",
   "execution_count": 73,
   "outputs": [
    {
     "data": {
      "text/plain": "array([0.26227793, 0.2520403 , 0.27244106, 0.2585061 , 0.2717826 ,\n       0.26838017, 0.26698768, 0.2724566 , 0.2791304 , 0.28045622],\n      dtype=float32)"
     },
     "execution_count": 73,
     "metadata": {},
     "output_type": "execute_result"
    }
   ],
   "source": [
    "# Make some predictions\n",
    "preds = model.predict(valid_ds)\n",
    "preds[0]  # because our model predicts 10 steps into the future each time, we see a 1 x 10 array"
   ],
   "metadata": {
    "collapsed": false,
    "pycharm": {
     "name": "#%%\n"
    }
   }
  },
  {
   "cell_type": "code",
   "execution_count": 74,
   "outputs": [
    {
     "data": {
      "text/plain": "array([2.20249206, 2.15371997, 2.25090921, 2.18452301, 2.24777234,\n       2.23156311, 2.22492931, 2.25098318, 2.28277722, 2.28909341])"
     },
     "execution_count": 74,
     "metadata": {},
     "output_type": "execute_result"
    }
   ],
   "source": [
    "def unnormalize(data, min, max):  # https://en.wikipedia.org/wiki/Feature_scaling\n",
    "    data = data * max\n",
    "    data = data + min\n",
    "    return data\n",
    "\n",
    "preds_unnormed = unnormalize(preds, data.min(axis=0), data.max(axis=0))  # remember when we did normalization we used entire data's min and max so here we also need to\n",
    "preds_unnormed[0]"
   ],
   "metadata": {
    "collapsed": false,
    "pycharm": {
     "name": "#%%\n"
    }
   }
  },
  {
   "cell_type": "code",
   "execution_count": 75,
   "outputs": [
    {
     "name": "stdout",
     "output_type": "stream",
     "text": [
      "(266, 10)\n",
      "[2.20249206 2.25588924 2.30713061 2.3477557  2.38083976 2.40317919\n",
      " 2.42675369 2.4478102  2.47077135 2.51632579 2.5677567  2.61577801\n",
      " 2.65242388 2.6751147  2.68757685 2.68771016 2.68816208 2.67150931\n",
      " 2.64313538 2.61525865 2.58113049 2.54679106 2.5281212  2.52570359\n",
      " 2.53963052 2.5638276  2.59014029 2.61390006 2.6301022  2.64078734\n",
      " 2.64700585 2.64994508 2.66691816 2.69153733 2.70648068 2.70592228\n",
      " 2.68994263 2.66933633 2.65224825 2.6587456  2.68619298 2.72405362\n",
      " 2.77049797 2.81273296 2.83655847 2.83673254 2.81777063 2.80363811\n",
      " 2.7855312  2.773425   2.76318964 2.7657701  2.76911709 2.76617076\n",
      " 2.75941515 2.75615348 2.7586797  2.76801548 2.78013617 2.79052656\n",
      " 2.79576897 2.79057469 2.77687805 2.75956849 2.74351813 2.72813933\n",
      " 2.710814   2.69357528 2.67843685 2.66688791 2.65957476 2.66286496\n",
      " 2.69412673 2.74127956 2.78533655 2.81914853 2.85859222 2.91366999\n",
      " 2.97083143 3.01827162 3.04925568 3.06209151 3.06732114 3.0587404\n",
      " 3.03444352 3.00530517 3.02615497 3.06588574 3.10308859 3.13345064\n",
      " 3.15360616 3.15342201 3.14126399 3.12831145 3.12306805 3.14217946\n",
      " 3.1745772  3.20891549 3.24930575 3.28044741 3.28967699 3.27255952\n",
      " 3.23325468 3.1986418  3.16270072 3.13996176 3.12764713 3.14181131\n",
      " 3.18080948 3.23090565 3.28115205 3.32856484 3.37429618 3.41555591\n",
      " 3.44727755 3.47521063 3.49086516 3.47993596 3.46019445 3.43207963\n",
      " 3.40150631 3.36776063 3.35027345 3.34547942 3.34873413 3.35509901\n",
      " 3.35818732 3.35779489 3.3551683  3.36431936 3.38151151 3.40031994\n",
      " 3.41859879 3.45096785 3.4898838  3.52342447 3.53874023 3.53973464\n",
      " 3.53008069 3.50134855 3.45789639 3.39685709 3.33290298 3.28439966\n",
      " 3.23870196 3.19434824 3.15101619 3.112483   3.08360122 3.06418143\n",
      " 3.06234239 3.06779307 3.08459989 3.11683123 3.15903058 3.20691928\n",
      " 3.24724934 3.27273273 3.28659393 3.29199109 3.29186644 3.28786606\n",
      " 3.29472914 3.31242872 3.33374108 3.3493665  3.35199309 3.34544619\n",
      " 3.32303933 3.28847869 3.24777665 3.21095487 3.18625803 3.17192604\n",
      " 3.16423422 3.16621951 3.17351634 3.18183527 3.1828108  3.17305505\n",
      " 3.1544745  3.13623512 3.12808216 3.13979167 3.16628851 3.19526741\n",
      " 3.2251473  3.24512279 3.2573369  3.26041328 3.25551531 3.24278668\n",
      " 3.22647323 3.23681962 3.24012743 3.23295738 3.22312709 3.21439955\n",
      " 3.21485643 3.21621559 3.21830736 3.21423613 3.19610934 3.16560815\n",
      " 3.11946322 3.0699493  3.01963405 2.98115709 2.94618273 2.90401916\n",
      " 2.85046709 2.79152495 2.72419162 2.65579728 2.59750768 2.55684936\n",
      " 2.53310165 2.52840629 2.52976985 2.53582224 2.54239072 2.55706006\n",
      " 2.57762291 2.60465898 2.62809988 2.64299496 2.65453481 2.65884286\n",
      " 2.65878578 2.65233145 2.6447403  2.63584238 2.63407248 2.63483575\n",
      " 2.63680329 2.63630764 2.63007352 2.61869865 2.60616608 2.59550763\n",
      " 2.58602292 2.57698699 2.57632183 2.58700995 2.60823968 2.63832288\n",
      " 2.67593264 2.71797056 2.77058799 2.82313982 2.86774797 2.89699379\n",
      " 2.91492082 2.93698907 2.95327951 2.97558799 3.00647877 3.05589444\n",
      " 3.13798514 3.23538578 3.33265111 3.41997002 3.47757258 3.4942803\n",
      " 3.46854163 3.41730679]\n",
      "(266,)\n"
     ]
    }
   ],
   "source": [
    "print(preds_unnormed.shape)\n",
    "''''\n",
    "(266, 10) means that we have 266 predictions, each is 10 steps into the future. E.g. the model is given 266 samples of input, and for each of them, it output the next 10 timesteps of prediction. However, because our shift size is 1, there will be an overlap of results. E.g. ABCDE -> FGHIJ, BCDEF -> GHIJK. You can see here that GHIJ is repeated. Therefore, we can only take the first timestep predicted and ignore the rest. E.g. we take F from 1st prediction, G from 2nd and so on. Btw, G in 1st pred may NOT be same value as G in 2nd pred because the model is receiving different input each time which affects ALL of its outputs. Here I use the same letter for simplicity’s sake but take note in real data it will likely to be slightly different.\n",
    "'''\n",
    "print(preds_unnormed[:, 0])  # to select the first element (first predicted timestep in this context), we use [:, 0]. This is how to access multiple dimension numpy arrays. The first : means take all values from the first dimension, the 0 means take only the 0th value in the 2nd dimension. This give us a 1D array of length 266.\n",
    "print(preds_unnormed[:, 0].shape)  # (266,)"
   ],
   "metadata": {
    "collapsed": false,
    "pycharm": {
     "name": "#%%\n"
    }
   }
  },
  {
   "cell_type": "code",
   "execution_count": 76,
   "outputs": [
    {
     "data": {
      "text/plain": "<Figure size 432x288 with 1 Axes>",
      "image/png": "[encoded data removed]"
     },
     "metadata": {
      "needs_background": "light"
     },
     "output_type": "display_data"
    }
   ],
   "source": [
    "# Plot the predictions\n",
    "plt.plot(unnormalize(val, data.min(axis=0), data.max(axis=0)), label='actual')  # our val was taken as subset of the normaized data so we need to unnormalize it here\n",
    "plt.plot(preds_unnormed[:, 0], label='prediction')\n",
    "plt.legend()\n",
    "plt.title('Weekly U.S. Diesel Retail Prices')\n",
    "plt.show()"
   ],
   "metadata": {
    "collapsed": false,
    "pycharm": {
     "name": "#%%\n"
    }
   }
  }
 ],
 "metadata": {
  "kernelspec": {
   "display_name": "Python 3",
   "language": "python",
   "name": "python3"
  },
  "language_info": {
   "codemirror_mode": {
    "name": "ipython",
    "version": 2
   },
   "file_extension": ".py",
   "mimetype": "text/x-python",
   "name": "python",
   "nbconvert_exporter": "python",
   "pygments_lexer": "ipython2",
   "version": "2.7.6"
  }
 },
 "nbformat": 4,
 "nbformat_minor": 0
}