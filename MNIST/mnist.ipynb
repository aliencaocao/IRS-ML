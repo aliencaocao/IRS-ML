{
 "cells": [
  {
   "cell_type": "code",
   "execution_count": 1,
   "metadata": {
    "collapsed": true
   },
   "outputs": [
    {
     "name": "stdout",
     "output_type": "stream",
     "text": [
      "Model: \"model\"\n",
      "_________________________________________________________________\n",
      " Layer (type)                Output Shape              Param #   \n",
      "=================================================================\n",
      " input_1 (InputLayer)        [(None, 28, 28)]          0         \n",
      "                                                                 \n",
      " flatten (Flatten)           (None, 784)               0         \n",
      "                                                                 \n",
      " dense (Dense)               (None, 256)               200960    \n",
      "                                                                 \n",
      " dropout (Dropout)           (None, 256)               0         \n",
      "                                                                 \n",
      " dense_1 (Dense)             (None, 256)               65792     \n",
      "                                                                 \n",
      " dropout_1 (Dropout)         (None, 256)               0         \n",
      "                                                                 \n",
      " dense_2 (Dense)             (None, 256)               65792     \n",
      "                                                                 \n",
      " dropout_2 (Dropout)         (None, 256)               0         \n",
      "                                                                 \n",
      " dense_3 (Dense)             (None, 10)                2570      \n",
      "                                                                 \n",
      "=================================================================\n",
      "Total params: 335,114\n",
      "Trainable params: 335,114\n",
      "Non-trainable params: 0\n",
      "_________________________________________________________________\n",
      "Epoch 1/30\n",
      "59/59 [==============================] - 3s 12ms/step - loss: 0.4650 - accuracy: 0.8615 - val_loss: 0.1593 - val_accuracy: 0.9494 - lr: 0.0030\n",
      "Epoch 2/30\n",
      "59/59 [==============================] - 1s 24ms/step - loss: 0.1595 - accuracy: 0.9507 - val_loss: 0.1179 - val_accuracy: 0.9637 - lr: 0.0030\n",
      "Epoch 3/30\n",
      "59/59 [==============================] - 0s 3ms/step - loss: 0.1118 - accuracy: 0.9658 - val_loss: 0.0970 - val_accuracy: 0.9684 - lr: 0.0030\n",
      "Epoch 4/30\n",
      "59/59 [==============================] - 0s 3ms/step - loss: 0.0898 - accuracy: 0.9711 - val_loss: 0.0808 - val_accuracy: 0.9737 - lr: 0.0030\n",
      "Epoch 5/30\n",
      "59/59 [==============================] - 0s 3ms/step - loss: 0.0745 - accuracy: 0.9767 - val_loss: 0.0822 - val_accuracy: 0.9729 - lr: 0.0030\n",
      "Epoch 6/30\n",
      "59/59 [==============================] - 0s 3ms/step - loss: 0.0608 - accuracy: 0.9801 - val_loss: 0.0789 - val_accuracy: 0.9777 - lr: 0.0030\n",
      "Epoch 7/30\n",
      "59/59 [==============================] - 0s 3ms/step - loss: 0.0522 - accuracy: 0.9829 - val_loss: 0.0689 - val_accuracy: 0.9785 - lr: 0.0030\n",
      "Epoch 8/30\n",
      "59/59 [==============================] - 0s 3ms/step - loss: 0.0465 - accuracy: 0.9846 - val_loss: 0.0641 - val_accuracy: 0.9812 - lr: 0.0030\n",
      "Epoch 9/30\n",
      "59/59 [==============================] - 0s 3ms/step - loss: 0.0442 - accuracy: 0.9855 - val_loss: 0.0665 - val_accuracy: 0.9801 - lr: 0.0030\n",
      "Epoch 10/30\n",
      "59/59 [==============================] - 0s 4ms/step - loss: 0.0376 - accuracy: 0.9875 - val_loss: 0.0664 - val_accuracy: 0.9813 - lr: 0.0030\n",
      "Epoch 11/30\n",
      "56/59 [===========================>..] - ETA: 0s - loss: 0.0342 - accuracy: 0.9888\n",
      "Epoch 11: ReduceLROnPlateau reducing learning rate to 0.00030000000260770325.\n",
      "59/59 [==============================] - 0s 3ms/step - loss: 0.0345 - accuracy: 0.9888 - val_loss: 0.0649 - val_accuracy: 0.9821 - lr: 0.0030\n",
      "Epoch 12/30\n",
      "59/59 [==============================] - 0s 3ms/step - loss: 0.0218 - accuracy: 0.9926 - val_loss: 0.0554 - val_accuracy: 0.9848 - lr: 3.0000e-04\n",
      "Epoch 13/30\n",
      "59/59 [==============================] - 0s 3ms/step - loss: 0.0171 - accuracy: 0.9945 - val_loss: 0.0545 - val_accuracy: 0.9855 - lr: 3.0000e-04\n",
      "Epoch 14/30\n",
      "59/59 [==============================] - 0s 3ms/step - loss: 0.0164 - accuracy: 0.9944 - val_loss: 0.0539 - val_accuracy: 0.9856 - lr: 3.0000e-04\n",
      "Epoch 15/30\n",
      "59/59 [==============================] - 0s 3ms/step - loss: 0.0152 - accuracy: 0.9952 - val_loss: 0.0544 - val_accuracy: 0.9858 - lr: 3.0000e-04\n",
      "Epoch 16/30\n",
      "59/59 [==============================] - 0s 3ms/step - loss: 0.0149 - accuracy: 0.9953 - val_loss: 0.0542 - val_accuracy: 0.9859 - lr: 3.0000e-04\n",
      "Epoch 17/30\n",
      "40/59 [===================>..........] - ETA: 0s - loss: 0.0130 - accuracy: 0.9961\n",
      "Epoch 17: ReduceLROnPlateau reducing learning rate to 3.000000142492354e-05.\n",
      "59/59 [==============================] - 0s 3ms/step - loss: 0.0136 - accuracy: 0.9958 - val_loss: 0.0549 - val_accuracy: 0.9853 - lr: 3.0000e-04\n",
      "Epoch 18/30\n",
      "59/59 [==============================] - 0s 3ms/step - loss: 0.0127 - accuracy: 0.9954 - val_loss: 0.0546 - val_accuracy: 0.9855 - lr: 3.0000e-05\n",
      "Epoch 19/30\n",
      "59/59 [==============================] - 0s 3ms/step - loss: 0.0124 - accuracy: 0.9958 - val_loss: 0.0544 - val_accuracy: 0.9856 - lr: 3.0000e-05\n"
     ]
    },
    {
     "data": {
      "text/plain": "<keras.callbacks.History at 0x1ce407d8fa0>"
     },
     "execution_count": 1,
     "metadata": {},
     "output_type": "execute_result"
    }
   ],
   "source": [
    "import tensorflow as tf\n",
    "from tensorflow.keras.models import Model\n",
    "from tensorflow.keras.layers import *\n",
    "\n",
    "(x_train, y_train), (x_test, y_test) = tf.keras.datasets.mnist.load_data()\n",
    "x_train, x_test = x_train / 255.0, x_test / 255.0  # normalize to between 0-1\n",
    "\n",
    "# model layers\n",
    "xIn = Input((28, 28))\n",
    "x = Flatten()(xIn)\n",
    "x = Dense(256, activation='swish')(x)\n",
    "x = Dropout(0.2)(x)\n",
    "x = Dense(256, activation='swish')(x)\n",
    "x = Dropout(0.2)(x)\n",
    "x = Dense(256, activation='swish')(x)\n",
    "x = Dropout(0.2)(x)\n",
    "xOut = Dense(10)(x)\n",
    "\n",
    "model = Model(inputs=xIn, outputs=xOut)\n",
    "\n",
    "model.compile(\n",
    "    optimizer=tf.keras.optimizers.Adam(3e-3),\n",
    "    loss=tf.keras.losses.SparseCategoricalCrossentropy(from_logits=True),\n",
    "    metrics=['accuracy'])\n",
    "\n",
    "callbacks = [\n",
    "    tf.keras.callbacks.EarlyStopping(monitor='val_loss', patience=5, restore_best_weights=True),\n",
    "    tf.keras.callbacks.ReduceLROnPlateau(monitor='val_loss', factor=0.1, patience=3, verbose=1)\n",
    "]\n",
    "\n",
    "model.summary()\n",
    "model.fit(x_train, y_train, epochs=30, batch_size=1024, validation_data=(x_test, y_test), callbacks=callbacks)"
   ]
  },
  {
   "cell_type": "code",
   "execution_count": 3,
   "outputs": [
    {
     "name": "stdout",
     "output_type": "stream",
     "text": [
      "313/313 [==============================] - 1s 3ms/step - loss: 0.0539 - accuracy: 0.9856\n"
     ]
    },
    {
     "data": {
      "text/plain": "[0.053946126252412796, 0.9856000542640686]"
     },
     "execution_count": 3,
     "metadata": {},
     "output_type": "execute_result"
    }
   ],
   "source": [
    "model.save(\"mymodel.h5\")\n",
    "model.evaluate(x_test, y_test)"
   ],
   "metadata": {
    "collapsed": false,
    "pycharm": {
     "name": "#%%\n"
    }
   }
  }
 ],
 "metadata": {
  "kernelspec": {
   "display_name": "Python 3",
   "language": "python",
   "name": "python3"
  },
  "language_info": {
   "codemirror_mode": {
    "name": "ipython",
    "version": 2
   },
   "file_extension": ".py",
   "mimetype": "text/x-python",
   "name": "python",
   "nbconvert_exporter": "python",
   "pygments_lexer": "ipython2",
   "version": "2.7.6"
  }
 },
 "nbformat": 4,
 "nbformat_minor": 0
}