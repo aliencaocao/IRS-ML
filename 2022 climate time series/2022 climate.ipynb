{
 "cells": [
  {
   "cell_type": "code",
   "execution_count": 2,
   "metadata": {
    "collapsed": true,
    "pycharm": {
     "name": "#%%\n"
    }
   },
   "outputs": [],
   "source": [
    "import pandas as pd"
   ]
  },
  {
   "cell_type": "code",
   "execution_count": 23,
   "outputs": [
    {
     "name": "stdout",
     "output_type": "stream",
     "text": [
      "321\n"
     ]
    }
   ],
   "source": [
    "df = pd.read_csv('DailyDelhiClimateTrain.csv')\n",
    "\n",
    "c = 0\n",
    "\n",
    "def classify(temp, humid, wind):\n",
    "    global c\n",
    "    if 18 <= temp <= 28.5 and 25 <= humid <= 75 and wind <= 9.5:\n",
    "        c += 1\n",
    "        return 1\n",
    "    else:\n",
    "        return 0\n",
    "\n",
    "df['comfortable'] = df.apply(lambda row: classify(row['meantemp'], row['humidity'], row['wind_speed']), axis=1)\n",
    "df.head()\n",
    "print(c)"
   ],
   "metadata": {
    "collapsed": false,
    "pycharm": {
     "name": "#%%\n"
    }
   }
  },
  {
   "cell_type": "code",
   "execution_count": 34,
   "outputs": [
    {
     "data": {
      "text/plain": "33      None\n51      None\n57      None\n61      None\n63      None\n        ... \n1438    None\n1440    None\n1441    None\n1442    None\n1443    None\nName: date, Length: 321, dtype: object"
     },
     "execution_count": 34,
     "metadata": {},
     "output_type": "execute_result"
    }
   ],
   "source": [
    "# print rows with comfortable = 1\n",
    "comfy_dates = df[df['comfortable'] == 1]['date']\n",
    "# find the most frequent month\n",
    "months_count = {1: 0, 2: 0, 3: 0, 4: 0, 5: 0, 6: 0, 7: 0, 8: 0, 9: 0, 10: 0, 11: 0, 12: 0}\n",
    "def countMonth(date):\n",
    "    month = int(date.split('-')[1])\n",
    "    months_count[month] += 1\n",
    "\n",
    "comfy_dates.apply(countMonth)"
   ],
   "metadata": {
    "collapsed": false,
    "pycharm": {
     "name": "#%%\n"
    }
   }
  },
  {
   "cell_type": "code",
   "execution_count": 24,
   "outputs": [],
   "source": [
    "df.to_csv('DailyDelhiClimateTrain.csv', index=False)"
   ],
   "metadata": {
    "collapsed": false,
    "pycharm": {
     "name": "#%%\n"
    }
   }
  }
 ],
 "metadata": {
  "kernelspec": {
   "display_name": "Python 3",
   "language": "python",
   "name": "python3"
  },
  "language_info": {
   "codemirror_mode": {
    "name": "ipython",
    "version": 2
   },
   "file_extension": ".py",
   "mimetype": "text/x-python",
   "name": "python",
   "nbconvert_exporter": "python",
   "pygments_lexer": "ipython2",
   "version": "2.7.6"
  }
 },
 "nbformat": 4,
 "nbformat_minor": 0
}