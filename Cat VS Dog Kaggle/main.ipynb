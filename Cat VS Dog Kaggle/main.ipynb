{
 "cells": [
  {
   "cell_type": "code",
   "execution_count": 1,
   "outputs": [
    {
     "name": "stdout",
     "output_type": "stream",
     "text": [
      "INFO:tensorflow:Mixed precision compatibility check (mixed_float16): OK\n",
      "Your GPU will likely run quickly with dtype policy mixed_float16 as it has compute capability of at least 7.0. Your GPU: NVIDIA GeForce RTX 3080 Ti, compute capability 8.6\n"
     ]
    }
   ],
   "source": [
    "import tensorflow as tf\n",
    "from tensorflow.keras import layers\n",
    "from tensorflow.keras.preprocessing.image import ImageDataGenerator\n",
    "import os\n",
    "tf.keras.mixed_precision.set_global_policy('mixed_float16')"
   ],
   "metadata": {
    "collapsed": false,
    "pycharm": {
     "name": "#%%\n"
    }
   }
  },
  {
   "cell_type": "code",
   "execution_count": 2,
   "outputs": [
    {
     "name": "stdout",
     "output_type": "stream",
     "text": [
      "Training data\n",
      "Found 20000 images belonging to 2 classes.\n",
      "2\n",
      "Validation data\n",
      "Found 5000 images belonging to 2 classes.\n"
     ]
    }
   ],
   "source": [
    "# data loading config\n",
    "batch_size = 128\n",
    "img_height = 150\n",
    "img_width = 150\n",
    "dataPath = 'train'\n",
    "labels = 'inferred'  # auto find from folders\n",
    "categorical = 'categorical'  # one hot encoding\n",
    "color_mode = 'rgb'\n",
    "shuffle = True\n",
    "seed = 69\n",
    "test_split = 0.2  # split into train and test (NOT val), 0-1\n",
    "AUTOTUNE = tf.data.AUTOTUNE\n",
    "\n",
    "print('Training data')\n",
    "train_datagen = ImageDataGenerator(rescale=1./255,\n",
    "                                   rotation_range=40,\n",
    "                                   width_shift_range=0.2,\n",
    "                                   height_shift_range=0.2,\n",
    "                                   shear_range=0.2,\n",
    "                                   zoom_range=0.2,\n",
    "                                   horizontal_flip=True,\n",
    "                                   fill_mode='nearest')\n",
    "test_datagen = ImageDataGenerator(rescale=1./255)\n",
    "\n",
    "train_generator = train_datagen.flow_from_directory(\n",
    "        'train',  # This is the source directory for training images\n",
    "        target_size=(150, 150),  # All images will be resized to 150x150\n",
    "        batch_size=batch_size,\n",
    "        # Since we use binary_crossentropy loss, we need binary labels\n",
    "        class_mode=categorical)\n",
    "\n",
    "# Flow validation images in batches of 20 using test_datagen generator\n",
    "print('Validation data')\n",
    "validation_generator = test_datagen.flow_from_directory(\n",
    "        'val',\n",
    "        target_size=(150, 150),\n",
    "        batch_size=batch_size,\n",
    "        class_mode=categorical)\n",
    "\n",
    "# train = tf.keras.preprocessing.image_dataset_from_directory(dataPath, labels=labels, label_mode=label_mode,\n",
    "# color_mode=color_mode, shuffle=shuffle, subset=\"training\", seed=seed, validation_split=test_split,\n",
    "# image_size=(img_height, img_width), batch_size=batch_size)\n",
    "# train_class_names = train.class_names\n",
    "#\n",
    "# val = tf.keras.preprocessing.image_dataset_from_directory(dataPath, labels=labels, label_mode=label_mode,\n",
    "# color_mode=color_mode, shuffle=shuffle, subset=\"validation\", seed=seed, validation_split=test_split,\n",
    "# image_size=(img_height, img_width), batch_size=batch_size)\n"
   ],
   "metadata": {
    "collapsed": false,
    "pycharm": {
     "name": "#%%\n"
    }
   }
  },
  {
   "cell_type": "code",
   "execution_count": 3,
   "outputs": [
    {
     "name": "stderr",
     "output_type": "stream",
     "text": [
      "C:\\Program Files\\Python39\\lib\\site-packages\\keras\\optimizer_v2\\adam.py:105: UserWarning: The `lr` argument is deprecated, use `learning_rate` instead.\n",
      "  super(Adam, self).__init__(name, **kwargs)\n"
     ]
    },
    {
     "name": "stdout",
     "output_type": "stream",
     "text": [
      "Model: \"model\"\n",
      "_________________________________________________________________\n",
      " Layer (type)                Output Shape              Param #   \n",
      "=================================================================\n",
      " input_1 (InputLayer)        [(None, 150, 150, 3)]     0         \n",
      "                                                                 \n",
      " conv2d (Conv2D)             (None, 148, 148, 16)      448       \n",
      "                                                                 \n",
      " max_pooling2d (MaxPooling2D  (None, 74, 74, 16)       0         \n",
      " )                                                               \n",
      "                                                                 \n",
      " conv2d_1 (Conv2D)           (None, 72, 72, 32)        4640      \n",
      "                                                                 \n",
      " max_pooling2d_1 (MaxPooling  (None, 36, 36, 32)       0         \n",
      " 2D)                                                             \n",
      "                                                                 \n",
      " conv2d_2 (Conv2D)           (None, 34, 34, 64)        18496     \n",
      "                                                                 \n",
      " activation (Activation)     (None, 34, 34, 64)        0         \n",
      "                                                                 \n",
      " flatten (Flatten)           (None, 73984)             0         \n",
      "                                                                 \n",
      " dense (Dense)               (None, 256)               18940160  \n",
      "                                                                 \n",
      " activation_1 (Activation)   (None, 256)               0         \n",
      "                                                                 \n",
      " dense_1 (Dense)             (None, 128)               32896     \n",
      "                                                                 \n",
      " activation_2 (Activation)   (None, 128)               0         \n",
      "                                                                 \n",
      " dense_2 (Dense)             (None, 2)                 258       \n",
      "                                                                 \n",
      "=================================================================\n",
      "Total params: 18,996,898\n",
      "Trainable params: 18,996,898\n",
      "Non-trainable params: 0\n",
      "_________________________________________________________________\n",
      "Epoch 1/20\n",
      "156/156 [==============================] - ETA: 0s - loss: 0.6748 - accuracy: 0.5955INFO:tensorflow:Assets written to: .\\best_model\\assets\n",
      "156/156 [==============================] - 73s 440ms/step - loss: 0.6748 - accuracy: 0.5955 - val_loss: 0.5984 - val_accuracy: 0.6708 - lr: 0.0010\n",
      "Epoch 2/20\n",
      "156/156 [==============================] - ETA: 0s - loss: 0.6006 - accuracy: 0.6676INFO:tensorflow:Assets written to: .\\best_model\\assets\n",
      "156/156 [==============================] - 70s 450ms/step - loss: 0.6006 - accuracy: 0.6676 - val_loss: 0.5725 - val_accuracy: 0.6998 - lr: 0.0010\n",
      "Epoch 3/20\n",
      "156/156 [==============================] - ETA: 0s - loss: 0.5766 - accuracy: 0.6929INFO:tensorflow:Assets written to: .\\best_model\\assets\n",
      "156/156 [==============================] - 70s 450ms/step - loss: 0.5766 - accuracy: 0.6929 - val_loss: 0.5256 - val_accuracy: 0.7366 - lr: 0.0010\n",
      "Epoch 4/20\n",
      "156/156 [==============================] - 69s 445ms/step - loss: 0.5560 - accuracy: 0.7110 - val_loss: 0.5465 - val_accuracy: 0.7230 - lr: 0.0010\n",
      "Epoch 5/20\n",
      "156/156 [==============================] - ETA: 0s - loss: 0.5433 - accuracy: 0.7199INFO:tensorflow:Assets written to: .\\best_model\\assets\n",
      "156/156 [==============================] - 71s 454ms/step - loss: 0.5433 - accuracy: 0.7199 - val_loss: 0.4959 - val_accuracy: 0.7628 - lr: 0.0010\n",
      "Epoch 6/20\n",
      "156/156 [==============================] - 69s 445ms/step - loss: 0.5318 - accuracy: 0.7250 - val_loss: 0.5048 - val_accuracy: 0.7628 - lr: 0.0010\n",
      "Epoch 7/20\n",
      "156/156 [==============================] - ETA: 0s - loss: 0.5203 - accuracy: 0.7394INFO:tensorflow:Assets written to: .\\best_model\\assets\n",
      "156/156 [==============================] - 70s 450ms/step - loss: 0.5203 - accuracy: 0.7394 - val_loss: 0.4883 - val_accuracy: 0.7654 - lr: 0.0010\n",
      "Epoch 8/20\n",
      "156/156 [==============================] - ETA: 0s - loss: 0.5061 - accuracy: 0.7497INFO:tensorflow:Assets written to: .\\best_model\\assets\n",
      "156/156 [==============================] - 71s 454ms/step - loss: 0.5061 - accuracy: 0.7497 - val_loss: 0.4761 - val_accuracy: 0.7816 - lr: 0.0010\n",
      "Epoch 9/20\n",
      "156/156 [==============================] - ETA: 0s - loss: 0.5045 - accuracy: 0.7483INFO:tensorflow:Assets written to: .\\best_model\\assets\n",
      "156/156 [==============================] - 69s 445ms/step - loss: 0.5045 - accuracy: 0.7483 - val_loss: 0.4308 - val_accuracy: 0.8028 - lr: 0.0010\n",
      "Epoch 10/20\n",
      "156/156 [==============================] - 68s 437ms/step - loss: 0.4873 - accuracy: 0.7609 - val_loss: 0.4507 - val_accuracy: 0.7894 - lr: 0.0010\n",
      "Epoch 11/20\n",
      "156/156 [==============================] - ETA: 0s - loss: 0.4833 - accuracy: 0.7666INFO:tensorflow:Assets written to: .\\best_model\\assets\n",
      "156/156 [==============================] - 69s 445ms/step - loss: 0.4833 - accuracy: 0.7666 - val_loss: 0.4148 - val_accuracy: 0.8108 - lr: 0.0010\n",
      "Epoch 12/20\n",
      "156/156 [==============================] - 69s 440ms/step - loss: 0.4742 - accuracy: 0.7701 - val_loss: 0.4351 - val_accuracy: 0.7898 - lr: 0.0010\n",
      "Epoch 13/20\n",
      "156/156 [==============================] - 71s 454ms/step - loss: 0.4581 - accuracy: 0.7819 - val_loss: 0.4215 - val_accuracy: 0.8060 - lr: 0.0010\n",
      "Epoch 14/20\n",
      "156/156 [==============================] - ETA: 0s - loss: 0.4487 - accuracy: 0.7886INFO:tensorflow:Assets written to: .\\best_model\\assets\n",
      "156/156 [==============================] - 71s 457ms/step - loss: 0.4487 - accuracy: 0.7886 - val_loss: 0.4070 - val_accuracy: 0.8188 - lr: 0.0010\n",
      "Epoch 15/20\n",
      "156/156 [==============================] - 70s 451ms/step - loss: 0.4403 - accuracy: 0.7916 - val_loss: 0.4060 - val_accuracy: 0.8152 - lr: 0.0010\n",
      "Epoch 16/20\n",
      "156/156 [==============================] - ETA: 0s - loss: 0.4298 - accuracy: 0.7987INFO:tensorflow:Assets written to: .\\best_model\\assets\n",
      "156/156 [==============================] - 72s 458ms/step - loss: 0.4298 - accuracy: 0.7987 - val_loss: 0.3879 - val_accuracy: 0.8302 - lr: 0.0010\n",
      "Epoch 17/20\n",
      "156/156 [==============================] - ETA: 0s - loss: 0.4178 - accuracy: 0.8076INFO:tensorflow:Assets written to: .\\best_model\\assets\n",
      "156/156 [==============================] - 70s 451ms/step - loss: 0.4178 - accuracy: 0.8076 - val_loss: 0.3736 - val_accuracy: 0.8380 - lr: 0.0010\n",
      "Epoch 18/20\n",
      "156/156 [==============================] - 70s 451ms/step - loss: 0.4053 - accuracy: 0.8163 - val_loss: 0.4075 - val_accuracy: 0.8188 - lr: 0.0010\n",
      "Epoch 19/20\n",
      "156/156 [==============================] - ETA: 0s - loss: 0.4020 - accuracy: 0.8143INFO:tensorflow:Assets written to: .\\best_model\\assets\n",
      "156/156 [==============================] - 70s 452ms/step - loss: 0.4020 - accuracy: 0.8143 - val_loss: 0.3669 - val_accuracy: 0.8394 - lr: 0.0010\n",
      "Epoch 20/20\n",
      "156/156 [==============================] - ETA: 0s - loss: 0.3927 - accuracy: 0.8206INFO:tensorflow:Assets written to: .\\best_model\\assets\n",
      "156/156 [==============================] - 72s 463ms/step - loss: 0.3927 - accuracy: 0.8206 - val_loss: 0.3418 - val_accuracy: 0.8476 - lr: 0.0010\n"
     ]
    },
    {
     "data": {
      "text/plain": "<keras.callbacks.History at 0x199e2c1ed00>"
     },
     "execution_count": 3,
     "metadata": {},
     "output_type": "execute_result"
    }
   ],
   "source": [
    "opt = tf.keras.optimizers.Adam(learning_rate=1e-3, epsilon=1e-6)\n",
    "loss = tf.keras.losses.CategoricalCrossentropy(from_logits=True)\n",
    "epoch = 20\n",
    "batch_size = 128\n",
    "callbacks = [\n",
    "    tf.keras.callbacks.EarlyStopping(monitor='val_accuracy', min_delta=0, patience=5, verbose=1,\n",
    "                                     mode='auto', baseline=None, restore_best_weights=True),\n",
    "    tf.keras.callbacks.ModelCheckpoint('./best_model',monitor='val_accuracy',save_best_only=True),\n",
    "    tf.keras.callbacks.ReduceLROnPlateau(monitor='val_accuracy', factor=0.05, patience=5, verbose=1)\n",
    "]\n",
    "\n",
    "# model layers\n",
    "xInput = layers.Input((img_height, img_width, 3))  # get resolutions, ignore batch size\n",
    "x = layers.Conv2D(16, 3, activation='relu')(xInput)\n",
    "x = layers.MaxPooling2D(2)(x)\n",
    "x = layers.Conv2D(32, 3, activation='relu')(x)\n",
    "x = layers.MaxPooling2D(2)(x)\n",
    "x = layers.Conv2D(64, 3, activation='relu')(x)\n",
    "x = layers.Activation('relu')(x)\n",
    "x = layers.Flatten()(x)\n",
    "x = layers.Dense(256)(x)\n",
    "x = layers.Activation('relu')(x)\n",
    "x = layers.Dense(128)(x)\n",
    "x = layers.Activation('relu')(x)\n",
    "xOutput = layers.Dense(train_generator.num_classes)(x)  # a probability for each class so need same no as classes\n",
    "\n",
    "model = tf.keras.Model(xInput, xOutput)\n",
    "model.compile(optimizer=opt, loss=loss, metrics='accuracy')\n",
    "model.summary()\n",
    "model.fit(train_generator, validation_data=validation_generator, steps_per_epoch=train_generator.samples//batch_size, epochs=epoch, callbacks=callbacks, verbose=1)"
   ],
   "metadata": {
    "collapsed": false,
    "pycharm": {
     "name": "#%%\n"
    }
   }
  }
 ],
 "metadata": {
  "kernelspec": {
   "display_name": "Python 3",
   "language": "python",
   "name": "python3"
  },
  "language_info": {
   "codemirror_mode": {
    "name": "ipython",
    "version": 2
   },
   "file_extension": ".py",
   "mimetype": "text/x-python",
   "name": "python",
   "nbconvert_exporter": "python",
   "pygments_lexer": "ipython2",
   "version": "2.7.6"
  }
 },
 "nbformat": 4,
 "nbformat_minor": 0
}