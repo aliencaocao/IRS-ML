{
 "cells": [
  {
   "cell_type": "code",
   "execution_count": 2,
   "metadata": {
    "collapsed": true
   },
   "outputs": [
    {
     "name": "stdout",
     "output_type": "stream",
     "text": [
      "Epoch count 0: Accuracy: 0.00%\n",
      "Epoch count 1: Accuracy: 73.81%\n",
      "Epoch count 2: Accuracy: 74.87%\n",
      "Epoch count 3: Accuracy: 73.80%\n",
      "Epoch count 4: Accuracy: 76.50%\n",
      "Weight: [ 626.9348 1404.5862], Bias: -93758.0\n"
     ]
    },
    {
     "data": {
      "text/plain": "<Figure size 432x288 with 1 Axes>",
      "image/png": "[encoded data removed]"
     },
     "metadata": {
      "needs_background": "light"
     },
     "output_type": "display_data"
    }
   ],
   "source": [
    "import tensorflow as tf\n",
    "import matplotlib.pyplot as plt\n",
    "import generator\n",
    "import math\n",
    "\n",
    "batch_size = 100000\n",
    "gen = generator.gen(batch_size)\n",
    "epochs = 5\n",
    "x1, x2, yp = [], [], []  # for plotting\n",
    "\n",
    "class perceptron:\n",
    "    def __call__(self, x):  # predicting function\n",
    "        return tf.math.sign(tf.tensordot(x, self.Weight, 1) + self.Bias)\n",
    "\n",
    "    def __init__(self):\n",
    "        self.Weight = tf.Variable(0.0, shape=tf.TensorShape(None))  # initialize m to any shape\n",
    "        self.Bias = tf.Variable(0.0)\n",
    "\n",
    "    def acc(self, y, pred):\n",
    "        signs = tf.math.sign(y*pred)\n",
    "        positiveCount = tf.where(signs > 0)\n",
    "        return positiveCount.shape[0]/signs.shape[0]*100\n",
    "\n",
    "    def train(self, x, y):\n",
    "        global x1, x2, yp\n",
    "        for i in range(len(x)):\n",
    "            x1 += [x[i].numpy()[0]]\n",
    "            x2 += [x[i].numpy()[1]]\n",
    "            yp += [y[i]]\n",
    "            if (y[i] * self(x[i])) <= 0:\n",
    "                self.Weight.assign_add(x[i] * y[i])\n",
    "                self.Bias.assign_add(y[i])\n",
    "\n",
    "model = perceptron()\n",
    "sampleX, sampleY = next(gen)\n",
    "model.Weight.assign([0.0] * sampleX.shape[-1])\n",
    "x, y = next(gen)\n",
    "for epoch_count in range(epochs):\n",
    "    accuracy = model.acc(y, model(x))\n",
    "    model.train(x, y)\n",
    "    print(f\"Epoch count {epoch_count}: Accuracy: {accuracy:.2f}%\")\n",
    "\n",
    "print(f'Weight: {model.Weight.numpy()}, Bias: {model.Bias.numpy()}')\n",
    "\n",
    "plt.plot(x, model.Weight.numpy()[0] * x + model.Weight.numpy()[1] * x + model.Bias)\n",
    "plt.scatter(x1, x2, c=yp)\n",
    "plt.show()"
   ]
  },
  {
   "cell_type": "code",
   "execution_count": null,
   "outputs": [],
   "source": [
    "\n",
    "import generator\n",
    "import numpy as np\n",
    "import tensorflow as tf\n",
    "\n",
    "batch_size = 1\n",
    "gen = generator.gen(batch_size)\n",
    "epochs = 500\n",
    "regTerm = 0.001\n",
    "classNum = 2\n",
    "lr = 1e-5\n",
    "\n",
    "class LinearClassifier:\n",
    "    def __call__(self, x):  # predicting function\n",
    "        return tf.math.sign(x * self.Weight + self.Bias)\n",
    "\n",
    "    def __init__(self):\n",
    "        self.Weight = tf.Variable(0.0, shape=None)  # initialize m to any shape\n",
    "        self.Bias = tf.Variable(0.0)\n",
    "\n",
    "    def loss(self, y, pred):\n",
    "        signs = []\n",
    "        sign = tf.math.sign(y*pred)\n",
    "        if sign != 1:\n",
    "            signs += [sign]\n",
    "        return tf.reduce_mean(signs)\n",
    "\n",
    "    def train(self, x, y, lr):\n",
    "        sampleX, sampleY = next(gen)\n",
    "        self.Weight.assign([0.0] * sampleX.shape[-1])\n",
    "        with tf.GradientTape(persistent=False) as t:  # persistent=True is needed if assigning dy_dWeight, dy_dBias in 2 lines. Limits the times u can call it to once\n",
    "            current_loss = self.loss(y, self(x))\n",
    "        dy_dWeight, dy_dBias = t.gradient(current_loss, [self.Weight, self.Bias])\n",
    "        self.Weight.assign_add(lr * dy_dWeight)\n",
    "        self.Bias.assign_add(lr * dy_dBias)\n",
    "\n",
    "model = LinearClassifier()\n",
    "for epoch_count in range(epochs):\n",
    "    x, y = next(gen)\n",
    "    real_loss = model.loss(y, model(x))\n",
    "    model.train(x, y, lr=lr)\n",
    "    print(f\"Epoch count {epoch_count}: Loss: {real_loss.numpy()}\")\n",
    "\n",
    "print(f'Weight: {LinearClassifier.Weight.numpy()}, Bias: {LinearClassifier.Bias.numpy()}')\n"
   ],
   "metadata": {
    "collapsed": false,
    "pycharm": {
     "name": "#%%\n"
    }
   }
  }
 ],
 "metadata": {
  "kernelspec": {
   "display_name": "Python 3",
   "language": "python",
   "name": "python3"
  },
  "language_info": {
   "codemirror_mode": {
    "name": "ipython",
    "version": 2
   },
   "file_extension": ".py",
   "mimetype": "text/x-python",
   "name": "python",
   "nbconvert_exporter": "python",
   "pygments_lexer": "ipython2",
   "version": "2.7.6"
  }
 },
 "nbformat": 4,
 "nbformat_minor": 0
}