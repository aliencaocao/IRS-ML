{
 "cells": [
  {
   "cell_type": "code",
   "execution_count": null,
   "metadata": {
    "collapsed": true,
    "pycharm": {
     "name": "#%%\n"
    }
   },
   "outputs": [],
   "source": [
    "# data loading config\n",
    "batch_size = 16\n",
    "img_height = 224\n",
    "img_width = 224\n",
    "dataPath = 'oxford_flowers_102'\n",
    "labels = 'inferred'\n",
    "label_mode = 'categorical'  # one hot encoding\n",
    "color_mode = 'rgb'\n",
    "shuffle = True\n",
    "seed = 69\n",
    "test_split = 0.2  # split into train and test (NOT val), 0-1\n",
    "AUTOTUNE = tf.data.AUTOTUNE\n",
    "\n",
    "train_df = pd.read_csv('image_to_label.csv', names=['picture', 'label'])\n",
    "with open('102_flower_labels.txt') as f:\n",
    "    regex = re.compile('[^a-zA-Z\\s-]')\n",
    "    classes=[]\n",
    "    for line in f:\n",
    "        classes += [regex.sub('', line.replace('\\'', '').strip())]\n",
    "\n",
    "\n",
    "def split_data(dataPath):\n",
    "    for root, dirs, files in os.walk(dataPath):\n",
    "        for name in files:\n",
    "            randomNum = random()\n",
    "            row = train_df.iloc[train_df.index[train_df['picture'] == name]]\n",
    "            if randomNum <= test_split:\n",
    "                os.makedirs('test\\\\'+classes[row.label.tolist()[0]-1]+'\\\\', exist_ok=True)\n",
    "                shutil.move(root+'\\\\'+name, 'test\\\\'+classes[row.label.tolist()[0]-1]+'\\\\')\n",
    "            elif test_split< randomNum <= test_split + test_split * (1-test_split):\n",
    "                os.makedirs('val\\\\'+classes[row.label.tolist()[0]-1]+'\\\\', exist_ok=True)\n",
    "                shutil.move(root+'\\\\'+name, 'val\\\\'+classes[row.label.tolist()[0]-1]+'\\\\')\n",
    "            else:\n",
    "                os.makedirs('train\\\\'+classes[row.label.tolist()[0]-1]+'\\\\', exist_ok=True)\n",
    "                shutil.move(root+'\\\\'+name, 'train\\\\'+classes[row.label.tolist()[0]-1]+'\\\\')\n",
    "\n",
    "# split_data(dataPath)  # Only need to run this once\n",
    "\n",
    "train_datagen = ImageDataGenerator(\n",
    "    rotation_range=20, width_shift_range=0.2,\n",
    "    height_shift_range=0.2, brightness_range=(-0.2, 0.2), shear_range=0.2, zoom_range=0.2,\n",
    "    channel_shift_range=0.2, fill_mode='nearest', horizontal_flip=True, vertical_flip=True)\n",
    "\n",
    "\n",
    "print('Training data:')\n",
    "# NOT USING GENERATOR\n",
    "train_generator = train_datagen.flow_from_directory('train', target_size=(img_height, img_width), batch_size=batch_size,\n",
    "                                                    color_mode=color_mode, class_mode=label_mode, shuffle=shuffle, seed=seed)\n",
    "train = keras.preprocessing.image_dataset_from_directory('train', labels=labels, label_mode=label_mode,\n",
    "color_mode=color_mode, shuffle=shuffle, seed=seed, image_size=(img_height, img_width), batch_size=batch_size)\n",
    "train_class_names = train.class_names\n",
    "print('\\nValidation data:')\n",
    "val = keras.preprocessing.image_dataset_from_directory('val', labels=labels, label_mode=label_mode,\n",
    "color_mode=color_mode, shuffle=shuffle, seed=seed, image_size=(img_height, img_width), batch_size=batch_size)\n",
    "val_class_names = val.class_names\n",
    "print('\\nTesting data:')\n",
    "test = keras.preprocessing.image_dataset_from_directory('test', labels=labels, label_mode=label_mode,\n",
    "color_mode=color_mode, shuffle=shuffle, seed=seed, image_size=(img_height, img_width), batch_size=batch_size)\n",
    "test_class_names = test.class_names\n",
    "\n",
    "train = train.cache().prefetch(buffer_size=AUTOTUNE)\n",
    "val = val.cache().prefetch(buffer_size=AUTOTUNE)\n",
    "test = test.cache().prefetch(buffer_size=AUTOTUNE)\n",
    "\n",
    "assert list(train_generator.class_indices.keys()) == train_class_names == val_class_names == test_class_names, 'Classes mismatch!'\n",
    "classes = list(train_generator.class_indices.keys())\n",
    "print('\\nClasses:', classes)"
   ]
  },
  {
   "cell_type": "code",
   "execution_count": null,
   "outputs": [],
   "source": [
    "import os\n",
    "import shutil\n",
    "\n",
    "for i, v in dict.items():\n",
    "    os.makedirs(v, exist_ok=True)\n",
    "    shutil.move(os.path.join('train', i), os.path.join(v, i))"
   ],
   "metadata": {
    "collapsed": false,
    "pycharm": {
     "name": "#%%\n"
    }
   }
  },
  {
   "cell_type": "code",
   "execution_count": null,
   "outputs": [],
   "source": [
    "# model\n",
    "xInput = Input((img_height, img_width, 3), dtype=tf.float16)\n",
    "efficient_net = tf.keras.applications.efficientnet.EfficientNetB1(include_top=False, weights='imagenet')\n",
    "x = efficient_net(xInput)\n",
    "x = Flatten()(x)\n",
    "x = Dense(256)(x)\n",
    "x = BatchNormalization(epsilon=1.001e-5)(x)\n",
    "x = Activation('relu')(x)\n",
    "xOutput = Dense(len(train_class_names), dtype=tf.float32)(x)  # no activation as loss using logit=True, need use float32 here to ensure model accuracy\n",
    "model = tf.keras.models.Model(xInput, xOutput)\n",
    "\n",
    "# compile model\n",
    "\n",
    "opt = tf.keras.optimizers.Adam(learning_rate=lr)\n",
    "loss = tf.keras.losses.CategoricalCrossentropy(from_logits=True, label_smoothing=0.1)\n",
    "metrics = ['accuracy']\n",
    "callbacks = [\n",
    "    tf.keras.callbacks.EarlyStopping(monitor='val_accuracy', min_delta=0, patience=5, verbose=1,\n",
    "                                     mode='auto', baseline=None, restore_best_weights=True),\n",
    "    tf.keras.callbacks.ModelCheckpoint('./best_model',monitor='val_accuracy',save_best_only=True),\n",
    "    tf.keras.callbacks.ReduceLROnPlateau(monitor='val_accuracy', factor=0.1, patience=3, verbose=1)\n",
    "]\n",
    "model.compile(optimizer=opt, loss=loss, metrics=metrics)\n",
    "model.summary()\n",
    "plot_model(model, show_shapes=True, show_layer_names=True, to_file='model.png')"
   ],
   "metadata": {
    "collapsed": false,
    "pycharm": {
     "name": "#%%\n"
    }
   }
  },
  {
   "cell_type": "code",
   "execution_count": null,
   "outputs": [],
   "source": [
    "# Training\n",
    "history = model.fit(train, epochs=epoch, validation_data=val, batch_size=batch_size, verbose=1)\n",
    "\n",
    "# Evaluate\n",
    "model.evaluate(test, batch_size=batch_size)"
   ],
   "metadata": {
    "collapsed": false,
    "pycharm": {
     "name": "#%%\n"
    }
   }
  }
 ],
 "metadata": {
  "kernelspec": {
   "display_name": "Python 3",
   "language": "python",
   "name": "python3"
  },
  "language_info": {
   "codemirror_mode": {
    "name": "ipython",
    "version": 2
   },
   "file_extension": ".py",
   "mimetype": "text/x-python",
   "name": "python",
   "nbconvert_exporter": "python",
   "pygments_lexer": "ipython2",
   "version": "2.7.6"
  }
 },
 "nbformat": 4,
 "nbformat_minor": 0
}