{
 "cells": [
  {
   "cell_type": "code",
   "execution_count": 2,
   "metadata": {
    "collapsed": true,
    "pycharm": {
     "name": "#%%\n"
    }
   },
   "outputs": [
    {
     "name": "stdout",
     "output_type": "stream",
     "text": [
      "Training data\n",
      "Found 6520 files belonging to 102 classes.\n",
      "Using 5216 files for training.\n",
      "Found 6520 files belonging to 102 classes.\n",
      "Using 1304 files for validation.\n",
      "\n",
      "Testing data\n",
      "Found 1669 files belonging to 102 classes.\n",
      "\n",
      "train classes: ['alpineseaholly', 'anthurium', 'artichoke', 'azalea', 'ballmoss', 'balloonflower', 'barbetondaisy', 'beardediris', 'beebalm', 'birdofparadise', 'bishopofllandaff', 'black-eyedsusan', 'blackberrylily', 'blanketflower', 'bolerodeepblue', 'bougainvillea', 'bromelia', 'buttercup', 'californianpoppy', 'camellia', 'cannalily', 'canterburybells', 'capeflower', 'carnation', 'cautleyaspicata', 'clematis', 'coltsfoot', 'columbine', 'commondandelion', 'cornpoppy', 'cyclamen', 'daffodil', 'desert-rose', 'englishmarigold', 'firelily', 'foxglove', 'frangipani', 'fritillary', 'gardenphlox', 'gaura', 'gazania', 'geranium', 'giantwhitearumlily', 'globe-flower', 'globethistle', 'grapehyacinth', 'greatmasterwort', 'hard-leavedpocketorchid', 'hibiscus', 'hippeastrum', 'japaneseanemone', 'kingprotea', 'lentenrose', 'lotus', 'loveinthemist', 'magnolia', 'mallow', 'marigold', 'mexicanaster', 'mexicanpetunia', 'monkshood', 'moonorchid', 'morningglory', 'orangedahlia', 'osteospermum', 'oxeyedaisy', 'passionflower', 'pelargonium', 'peruvianlily', 'petunia', 'pincushionflower', 'pink-yellowdahlia', 'pinkprimrose', 'poinsettia', 'primula', 'princeofwalesfeathers', 'purpleconeflower', 'redginger', 'rose', 'ruby-lippedcattleya', 'siamtulip', 'silverbush', 'snapdragon', 'spearthistle', 'springcrocus', 'stemlessgentian', 'sunflower', 'sweetpea', 'sweetwilliam', 'swordlily', 'thornapple', 'tigerlily', 'toadlily', 'treemallow', 'treepoppy', 'trumpetcreeper', 'wallflower', 'watercress', 'waterlily', 'wildpansy', 'windflower', 'yellowiris']\n",
      "test classes: ['alpineseaholly', 'anthurium', 'artichoke', 'azalea', 'ballmoss', 'balloonflower', 'barbetondaisy', 'beardediris', 'beebalm', 'birdofparadise', 'bishopofllandaff', 'black-eyedsusan', 'blackberrylily', 'blanketflower', 'bolerodeepblue', 'bougainvillea', 'bromelia', 'buttercup', 'californianpoppy', 'camellia', 'cannalily', 'canterburybells', 'capeflower', 'carnation', 'cautleyaspicata', 'clematis', 'coltsfoot', 'columbine', 'commondandelion', 'cornpoppy', 'cyclamen', 'daffodil', 'desert-rose', 'englishmarigold', 'firelily', 'foxglove', 'frangipani', 'fritillary', 'gardenphlox', 'gaura', 'gazania', 'geranium', 'giantwhitearumlily', 'globe-flower', 'globethistle', 'grapehyacinth', 'greatmasterwort', 'hard-leavedpocketorchid', 'hibiscus', 'hippeastrum', 'japaneseanemone', 'kingprotea', 'lentenrose', 'lotus', 'loveinthemist', 'magnolia', 'mallow', 'marigold', 'mexicanaster', 'mexicanpetunia', 'monkshood', 'moonorchid', 'morningglory', 'orangedahlia', 'osteospermum', 'oxeyedaisy', 'passionflower', 'pelargonium', 'peruvianlily', 'petunia', 'pincushionflower', 'pink-yellowdahlia', 'pinkprimrose', 'poinsettia', 'primula', 'princeofwalesfeathers', 'purpleconeflower', 'redginger', 'rose', 'ruby-lippedcattleya', 'siamtulip', 'silverbush', 'snapdragon', 'spearthistle', 'springcrocus', 'stemlessgentian', 'sunflower', 'sweetpea', 'sweetwilliam', 'swordlily', 'thornapple', 'tigerlily', 'toadlily', 'treemallow', 'treepoppy', 'trumpetcreeper', 'wallflower', 'watercress', 'waterlily', 'wildpansy', 'windflower', 'yellowiris']\n"
     ]
    }
   ],
   "source": [
    "# Data prep\n",
    "import os, shutil\n",
    "import tensorflow as tf\n",
    "from tensorflow import keras\n",
    "from tensorflow.keras import layers\n",
    "from random import random\n",
    "import pandas as pd\n",
    "import re\n",
    "keras.mixed_precision.set_global_policy('mixed_float16')\n",
    "\n",
    "# data loading config\n",
    "batch_size = 64\n",
    "img_height = 256\n",
    "img_width = 256\n",
    "dataPath = 'oxford_flower_102'\n",
    "labels = 'inferred'\n",
    "label_mode = 'categorical'  # one hot encoding\n",
    "color_mode = 'rgb'\n",
    "shuffle = True\n",
    "seed = 69\n",
    "test_split = 0.2  # split into train and test (NOT val), 0-1\n",
    "AUTOTUNE = tf.data.AUTOTUNE\n",
    "\n",
    "train_df = pd.read_csv('image_to_label.csv', names=['picture', 'label'])\n",
    "test_df = pd.DataFrame(columns=['picture', 'label'])\n",
    "with open('102_flower_labels.txt') as f:\n",
    "    regex = re.compile('[^a-zA-Z\\s-]')\n",
    "    classes=[]\n",
    "    for line in f:\n",
    "        classes += [regex.sub('', line.replace('\\'', '').replace(' ', '').strip())]  # remove bullshit\n",
    "\n",
    "\n",
    "def split_train_test(dataPath):\n",
    "    for root, dirs, files in os.walk(dataPath):\n",
    "        for name in files:\n",
    "            randomNum = random()\n",
    "            row = train_df.iloc[train_df.index[train_df['picture'] == name]]\n",
    "            if randomNum <= test_split:\n",
    "                os.makedirs('test\\\\'+classes[row.label.tolist()[0]-1]+'\\\\', exist_ok=True)\n",
    "                shutil.move(root+'\\\\'+name, 'test\\\\'+classes[row.label.tolist()[0]-1]+'\\\\')\n",
    "            else:\n",
    "                os.makedirs('train\\\\'+classes[row.label.tolist()[0]-1]+'\\\\', exist_ok=True)\n",
    "                shutil.move(root+'\\\\'+name, 'train\\\\'+classes[row.label.tolist()[0]-1]+'\\\\')\n",
    "\n",
    "# split_train_test(dataPath)  # Only need to run this once\n",
    "\n",
    "print('Training data')\n",
    "train = keras.preprocessing.image_dataset_from_directory('train', labels=labels, label_mode=label_mode,\n",
    "color_mode=color_mode, shuffle=shuffle, subset=\"training\", seed=seed, validation_split=test_split,\n",
    "image_size=(img_height, img_width), batch_size=batch_size)\n",
    "train_class_names = train.class_names\n",
    "\n",
    "val = keras.preprocessing.image_dataset_from_directory('train', labels=labels, label_mode=label_mode,\n",
    "color_mode=color_mode, shuffle=shuffle, subset=\"validation\", seed=seed, validation_split=test_split,\n",
    "image_size=(img_height, img_width), batch_size=batch_size)\n",
    "\n",
    "print('\\nTesting data')\n",
    "test = keras.preprocessing.image_dataset_from_directory('test', labels=labels, label_mode=label_mode,\n",
    "color_mode=color_mode, shuffle=shuffle, seed=seed,\n",
    "image_size=(img_height, img_width), batch_size=batch_size)\n",
    "test_class_names = test.class_names\n",
    "\n",
    "train = train.cache().prefetch(buffer_size=AUTOTUNE)\n",
    "val = val.cache().prefetch(buffer_size=AUTOTUNE)\n",
    "test = test.cache().prefetch(buffer_size=AUTOTUNE)\n",
    "\n",
    "print()\n",
    "print('train classes:', train_class_names)\n",
    "print('test classes:', test_class_names)"
   ]
  },
  {
   "cell_type": "code",
   "execution_count": null,
   "outputs": [],
   "source": [],
   "metadata": {
    "collapsed": false,
    "pycharm": {
     "name": "#%%\n"
    }
   }
  }
 ],
 "metadata": {
  "kernelspec": {
   "display_name": "Python 3",
   "language": "python",
   "name": "python3"
  },
  "language_info": {
   "codemirror_mode": {
    "name": "ipython",
    "version": 2
   },
   "file_extension": ".py",
   "mimetype": "text/x-python",
   "name": "python",
   "nbconvert_exporter": "python",
   "pygments_lexer": "ipython2",
   "version": "2.7.6"
  }
 },
 "nbformat": 4,
 "nbformat_minor": 0
}